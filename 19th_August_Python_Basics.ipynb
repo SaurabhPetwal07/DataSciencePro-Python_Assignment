{
 "cells": [
  {
   "cell_type": "markdown",
   "id": "dd307f78-2be6-414f-847c-6cd382dbab6b",
   "metadata": {},
   "source": [
    "# Assignment"
   ]
  },
  {
   "cell_type": "markdown",
   "id": "2cbb6869-14ee-4c00-87c2-7fe295d8c46c",
   "metadata": {},
   "source": [
    "## TOPIC: Python Basics Variables"
   ]
  },
  {
   "cell_type": "markdown",
   "id": "3c0b15b5-e54d-43c7-9533-322753b86ca8",
   "metadata": {},
   "source": [
    "### 1. Declare two variables, `x` and `y`, and assign them integer values. Swap the values of these variables without using any temporary variable."
   ]
  },
  {
   "cell_type": "code",
   "execution_count": 1,
   "id": "c2a3e30e-f42d-4c80-a80f-2489850fb348",
   "metadata": {},
   "outputs": [
    {
     "name": "stdout",
     "output_type": "stream",
     "text": [
      " x = 10 and y = 20\n",
      "\n",
      "\n",
      " Swapping value of 'x' and 'y':  \n",
      " New value of variable 'x' is 20 \n",
      " New value of variable 'y' is 10\n"
     ]
    }
   ],
   "source": [
    "# Declaring variables x and y as:\n",
    "\n",
    "x = 10\n",
    "y = 20\n",
    "\n",
    "#Original values of variable x and y is 10 and 20\n",
    "print(f\" x = {x} and y = {y}\")\n",
    "\n",
    "\n",
    "# swapping both variable values without temporary variable\n",
    "x, y = y, x\n",
    "\n",
    "/# \\n is used for a new line (blank)\n",
    "# result after swaping the variables values:\n",
    "print(\"\\n\")\n",
    "print(f\" Swapping value of 'x' and 'y': \", \"\\n\",\n",
    "      \"New value of variable 'x' is\", x, \"\\n\",\n",
    "      \"New value of variable 'y' is\" ,y)"
   ]
  },
  {
   "cell_type": "markdown",
   "id": "b3ef26b4-9689-4bc1-ad0d-a91953b2a9d9",
   "metadata": {},
   "source": [
    "### 2. Create a program that calculates the area of a rectangle. Take the length and width as inputs from the user and store them in variables. Calculate and display the area."
   ]
  },
  {
   "cell_type": "code",
   "execution_count": 2,
   "id": "33980826-70fc-4de3-b706-ab092f84299b",
   "metadata": {},
   "outputs": [
    {
     "name": "stdin",
     "output_type": "stream",
     "text": [
      "Enter the length of the rectangle : 12\n",
      "Enter the length of the rectangle : 12.3\n"
     ]
    },
    {
     "name": "stdout",
     "output_type": "stream",
     "text": [
      "Area of the rectangle = 147.6\n"
     ]
    }
   ],
   "source": [
    "# Mathematically, Area of the rectangle = Length x Breadth\n",
    "\n",
    "# taking both variables as a input from user:\n",
    "# using 'eval' for type casting the input in float as well as int, giving user freedom to give input even in 'int' ot 'float'\n",
    "length = eval(input(\"Enter the length of the rectangle :\")) \n",
    "breadth = eval(input(\"Enter the length of the rectangle :\"))\n",
    "\n",
    "#formula for calculating the area of rectangle\n",
    "area_of_rectangle = length * breadth\n",
    "\n",
    "#using round in-built function for limiting the values after decimal, in case of float type result limiting values to two digits after decimal\n",
    "print(f\"Area of the rectangle =\", round(area_of_rectangle,2))"
   ]
  },
  {
   "cell_type": "markdown",
   "id": "670615d9-3047-4de5-af40-4994889b21cc",
   "metadata": {},
   "source": [
    "### 3. Write a Python program that converts temperatures from Celsius to Fahrenheit. Take the temperature in Celsius as input, store it in a variable, convert it to Fahrenheit, and display the result."
   ]
  },
  {
   "cell_type": "code",
   "execution_count": 3,
   "id": "9a704c40-f6e4-4014-8fff-133c33c69de6",
   "metadata": {},
   "outputs": [
    {
     "name": "stdin",
     "output_type": "stream",
     "text": [
      "Enter the temperature value in Celcius:  23\n"
     ]
    },
    {
     "name": "stdout",
     "output_type": "stream",
     "text": [
      "Temperature in Fahrenheit will be:  73.4 F\n"
     ]
    }
   ],
   "source": [
    "# Celsius to Fahrenheit Conversion Formula:\n",
    "\n",
    "'''\n",
    "Multiply the °C temperature by 1.8 and add 32 to this number. \n",
    "This is the answer in °F.\n",
    "\n",
    "Mathematical formula:\n",
    " °F = (°C × 9/5) + 32\n",
    " \n",
    " '''\n",
    "\n",
    "#taking input from user in celcius\n",
    "temp_celcius = eval(input(\"Enter the temperature value in Celcius: \"))\n",
    "\n",
    "#converting temperature from celcius to Fahrenheit\n",
    "temp_fahrenheit = (temp_celcius * 1.8) + 32\n",
    "\n",
    "#conversion result is as:\n",
    "print(\"Temperature in Fahrenheit will be: \",temp_fahrenheit, 'F')"
   ]
  },
  {
   "cell_type": "markdown",
   "id": "760b65bb-7b3c-494d-ba08-c2c4d301be60",
   "metadata": {},
   "source": [
    "## TOPIC: String Based Questions"
   ]
  },
  {
   "cell_type": "markdown",
   "id": "d25a65a9-1d7d-4d4e-a4ec-5607615888b5",
   "metadata": {},
   "source": [
    "### 1. Write a Python program that takes a string as input and prints the length of the string."
   ]
  },
  {
   "cell_type": "code",
   "execution_count": 4,
   "id": "9581855b-4bf4-4c93-96fe-b8b594f8693c",
   "metadata": {},
   "outputs": [
    {
     "name": "stdin",
     "output_type": "stream",
     "text": [
      "Enter the string of which length is to measure: saurabh\n"
     ]
    },
    {
     "name": "stdout",
     "output_type": "stream",
     "text": [
      "Length of the string is: 7\n"
     ]
    }
   ],
   "source": [
    "# Method_1: Using len function\n",
    "\n",
    "string = input(\"Enter the string of which length is to measure:\")\n",
    "print(f\"Length of the string is:\" ,len(string))"
   ]
  },
  {
   "cell_type": "code",
   "execution_count": 5,
   "id": "e45346bc-6235-49a9-8bb3-4dc272a083c8",
   "metadata": {},
   "outputs": [
    {
     "name": "stdin",
     "output_type": "stream",
     "text": [
      "Enter the string of which length is to measure: saurabh\n"
     ]
    },
    {
     "name": "stdout",
     "output_type": "stream",
     "text": [
      "Length of the string is: 7\n"
     ]
    }
   ],
   "source": [
    "#Method_2: using for loop, iterate the characters of string and counting total characters to find length of the string\n",
    "string = input(\"Enter the string of which length is to measure:\")\n",
    "count = 0\n",
    "for char in string:\n",
    "    count = count + 1\n",
    "\n",
    "print(f\"Length of the string is:\" , count)"
   ]
  },
  {
   "cell_type": "markdown",
   "id": "95557370-ec83-43ec-b191-f3b69680c0d4",
   "metadata": {},
   "source": [
    "### 2. Create a program that takes a sentence from the user and counts the number of vowels (a, e, i, o, u) in the string."
   ]
  },
  {
   "cell_type": "code",
   "execution_count": 6,
   "id": "54eb044c-ea9b-4b6c-94a5-39891b96bf86",
   "metadata": {},
   "outputs": [
    {
     "name": "stdin",
     "output_type": "stream",
     "text": [
      "Enter the sentence to count the vowels: saurabh\n"
     ]
    },
    {
     "name": "stdout",
     "output_type": "stream",
     "text": [
      "Total vowels count in sentence are : 3\n"
     ]
    }
   ],
   "source": [
    "user_input = input(\"Enter the sentence to count the vowels:\")\n",
    "\n",
    "#converting string to lower case\n",
    "user_input = user_input.lower()\n",
    "\n",
    "#declaring a variable 'vowels' to count the no. of vowels in sentence\n",
    "vowels = 0\n",
    "\n",
    "#Using for loop to count the number of vowels in sentence\n",
    "for i in range(0, len(user_input)):\n",
    "  \n",
    "    char = user_input[i]    \n",
    "    if (char == \"a\" or char == \"e\" or char == \"i\" or char == \"o\" or char == \"u\"):\n",
    "        vowels += 1\n",
    "    else:\n",
    "        vowels = vowels\n",
    "print(\"Total vowels count in sentence are :\", vowels)"
   ]
  },
  {
   "cell_type": "markdown",
   "id": "0e64333f-a4c8-4036-9199-90f38ec84ffd",
   "metadata": {},
   "source": [
    "### 3. Given a string, reverse the order of characters using string slicing and print the reversed string."
   ]
  },
  {
   "cell_type": "code",
   "execution_count": 7,
   "id": "8f5b7c9e-f59c-4206-8761-43a1e93e2328",
   "metadata": {},
   "outputs": [
    {
     "name": "stdin",
     "output_type": "stream",
     "text": [
      "Enter the string need to reverse:  python\n"
     ]
    },
    {
     "name": "stdout",
     "output_type": "stream",
     "text": [
      "Result as a reverse string is: nohtyp\n"
     ]
    }
   ],
   "source": [
    "user_input_str = input(\"Enter the string need to reverse: \")\n",
    "\n",
    "#using slicing reversing the string\n",
    "reverse_string = user_input_str[::-1]\n",
    "\n",
    "print(\"Result as a reverse string is:\", reverse_string)"
   ]
  },
  {
   "cell_type": "markdown",
   "id": "74a3cc76-bddc-42c4-99e3-c956c87ce95a",
   "metadata": {},
   "source": [
    "### 4. Write a program that takes a string as input and checks if it is a palindrome (reads the same forwards and backwards)."
   ]
  },
  {
   "cell_type": "code",
   "execution_count": 8,
   "id": "e81108f7-9690-4526-a673-ca9df55b23e5",
   "metadata": {},
   "outputs": [
    {
     "name": "stdin",
     "output_type": "stream",
     "text": [
      "Enter the string to check for palindrome: python\n"
     ]
    },
    {
     "name": "stdout",
     "output_type": "stream",
     "text": [
      "No, given string python is not a palindrome\n"
     ]
    }
   ],
   "source": [
    "# taking string input from user\n",
    "string_input = input(\"Enter the string to check for palindrome:\")\n",
    "\n",
    "# declaring a variable palindrome_str with null value\n",
    "palindrome_str = \"\"\n",
    "\n",
    "# iterate the user input string and storing the iteration result in reverse order in palindrome_str variable\n",
    "for i in range(0, len(string_input)):    \n",
    "    palindrome_str = string_input[i] + palindrome_str\n",
    "\n",
    "#checking whether string is palindrome or not\n",
    "if string_input == palindrome_str:\n",
    "    print(\"Yes, given string\", string_input, \"is a palindrome\")\n",
    "        \n",
    "else:\n",
    "    print(\"No, given string\",string_input, \"is not a palindrome\")\n",
    "               \n",
    "               "
   ]
  },
  {
   "cell_type": "markdown",
   "id": "af637ee1-0f44-4a30-b9b5-54fa61bd59dd",
   "metadata": {},
   "source": [
    "### 5. Create a program that takes a string as input and removes all the spaces from it. Print the modified string without spaces.\n"
   ]
  },
  {
   "cell_type": "code",
   "execution_count": 9,
   "id": "0640f07a-e902-4d5f-b287-3434b2aba648",
   "metadata": {},
   "outputs": [
    {
     "name": "stdin",
     "output_type": "stream",
     "text": [
      "Enter the string with whitespaces: saurabb basu  petwal\n"
     ]
    },
    {
     "name": "stdout",
     "output_type": "stream",
     "text": [
      "['saurabb', 'basu', 'petwal']\n",
      "String after cleaning the white spaces: saurabbbasupetwal\n"
     ]
    }
   ],
   "source": [
    "# taking string input from user\n",
    "str_input = input(\"Enter the string with whitespaces:\")\n",
    "\n",
    "#using split function to convert string into list data type and all all leading, lagging whitespaces will get removed\n",
    "string = str_input.split()\n",
    "\n",
    "#using join with \"\" will combine the string from list to string without any whitespace\n",
    "str_cleaned = \"\".join(string)\n",
    "\n",
    "\n",
    "print(\"String after cleaning the white spaces:\", str_cleaned)"
   ]
  },
  {
   "cell_type": "code",
   "execution_count": null,
   "id": "e6663773-29a6-4179-b181-f0ab9510e480",
   "metadata": {},
   "outputs": [],
   "source": []
  }
 ],
 "metadata": {
  "kernelspec": {
   "display_name": "Python 3 (ipykernel)",
   "language": "python",
   "name": "python3"
  },
  "language_info": {
   "codemirror_mode": {
    "name": "ipython",
    "version": 3
   },
   "file_extension": ".py",
   "mimetype": "text/x-python",
   "name": "python",
   "nbconvert_exporter": "python",
   "pygments_lexer": "ipython3",
   "version": "3.10.8"
  }
 },
 "nbformat": 4,
 "nbformat_minor": 5
}
